{
  "nbformat": 4,
  "nbformat_minor": 0,
  "metadata": {
    "colab": {
      "provenance": [],
      "machine_shape": "hm",
      "gpuType": "T4"
    },
    "kernelspec": {
      "name": "python3",
      "display_name": "Python 3"
    },
    "language_info": {
      "name": "python"
    }
  },
  "cells": [
    {
      "cell_type": "code",
      "execution_count": 2,
      "metadata": {
        "id": "TrN3lezY_eGY",
        "colab": {
          "base_uri": "https://localhost:8080/"
        },
        "outputId": "7824699d-9798-424e-a82e-df50270d5547"
      },
      "outputs": [
        {
          "output_type": "stream",
          "name": "stdout",
          "text": [
            "Requirement already satisfied: geopy in /usr/local/lib/python3.12/dist-packages (2.4.1)\n",
            "Requirement already satisfied: pandas in /usr/local/lib/python3.12/dist-packages (2.2.2)\n",
            "Requirement already satisfied: numpy in /usr/local/lib/python3.12/dist-packages (2.0.2)\n",
            "Requirement already satisfied: scikit-learn in /usr/local/lib/python3.12/dist-packages (1.6.1)\n",
            "Requirement already satisfied: geographiclib<3,>=1.52 in /usr/local/lib/python3.12/dist-packages (from geopy) (2.1)\n",
            "Requirement already satisfied: python-dateutil>=2.8.2 in /usr/local/lib/python3.12/dist-packages (from pandas) (2.9.0.post0)\n",
            "Requirement already satisfied: pytz>=2020.1 in /usr/local/lib/python3.12/dist-packages (from pandas) (2025.2)\n",
            "Requirement already satisfied: tzdata>=2022.7 in /usr/local/lib/python3.12/dist-packages (from pandas) (2025.2)\n",
            "Requirement already satisfied: scipy>=1.6.0 in /usr/local/lib/python3.12/dist-packages (from scikit-learn) (1.16.3)\n",
            "Requirement already satisfied: joblib>=1.2.0 in /usr/local/lib/python3.12/dist-packages (from scikit-learn) (1.5.2)\n",
            "Requirement already satisfied: threadpoolctl>=3.1.0 in /usr/local/lib/python3.12/dist-packages (from scikit-learn) (3.6.0)\n",
            "Requirement already satisfied: six>=1.5 in /usr/local/lib/python3.12/dist-packages (from python-dateutil>=2.8.2->pandas) (1.17.0)\n"
          ]
        }
      ],
      "source": [
        "!pip install geopy pandas numpy scikit-learn"
      ]
    },
    {
      "cell_type": "code",
      "source": [
        "import pandas as pd\n",
        "import numpy as np\n",
        "from geopy.distance import geodesic\n",
        "from sklearn.decomposition import NMF\n",
        "from sklearn.preprocessing import LabelEncoder\n",
        "from sklearn.model_selection import train_test_split"
      ],
      "metadata": {
        "id": "EtazF6LrSuJ1"
      },
      "execution_count": 3,
      "outputs": []
    },
    {
      "cell_type": "code",
      "source": [
        "df = pd.read_csv(\"dataset_TSMC2014_NYC.csv\")\n",
        "\n",
        "df = df.dropna(subset=[\"userId\", \"venueId\", \"latitude\", \"longitude\"])\n",
        "df[\"utcTimestamp\"] = pd.to_datetime(df[\"utcTimestamp\"], errors=\"coerce\")\n",
        "\n",
        "df = df[[\"userId\", \"venueId\", \"venueCategory\", \"latitude\", \"longitude\", \"utcTimestamp\"]]\n",
        "\n",
        "# Add implicit label (user visited = 1)\n",
        "df[\"label\"] = 1\n",
        "\n",
        "user_enc = LabelEncoder()\n",
        "venue_enc = LabelEncoder()\n",
        "\n",
        "df[\"userId_enc\"] = user_enc.fit_transform(df[\"userId\"])\n",
        "df[\"venueId_enc\"] = venue_enc.fit_transform(df[\"venueId\"])\n",
        "\n",
        "\n",
        "interaction_matrix = (\n",
        "    df.groupby([\"userId_enc\", \"venueId_enc\"])[\"label\"]\n",
        "      .sum().unstack(fill_value=0)\n",
        ")\n",
        "\n",
        "nmf = NMF(n_components=30, random_state=42)\n",
        "user_features = nmf.fit_transform(interaction_matrix)\n",
        "venue_features = nmf.components_.T\n",
        "\n",
        "print(\"✅ Model training complete using NMF!\")\n",
        "\n",
        "def recommend_for_coordinates(user_original_id, coords_list, radius_m=500, top_n=5):\n",
        "    \"\"\"\n",
        "    Given a user and list of coordinate points, recommend top-N venues nearby each.\n",
        "    \"\"\"\n",
        "    if user_original_id not in user_enc.classes_:\n",
        "        raise ValueError(\"User not found in training data.\")\n",
        "\n",
        "    user_id = user_enc.transform([user_original_id])[0]\n",
        "    user_vector = user_features[user_id]\n",
        "\n",
        "    candidates = df[[\"venueId\", \"venueId_enc\", \"venueCategory\", \"latitude\", \"longitude\"]].drop_duplicates()\n",
        "\n",
        "    results = []\n",
        "    for lat, lon in coords_list:\n",
        "        candidates[\"distance_m\"] = candidates.apply(\n",
        "            lambda r: geodesic((lat, lon), (r.latitude, r.longitude)).meters, axis=1\n",
        "        )\n",
        "\n",
        "        nearby = candidates[candidates[\"distance_m\"] < radius_m].copy()\n",
        "        if nearby.empty:\n",
        "            continue\n",
        "\n",
        "\n",
        "        nearby[\"score\"] = nearby[\"venueId_enc\"].apply(\n",
        "            lambda v: np.dot(user_vector, venue_features[v])\n",
        "        )\n",
        "\n",
        "\n",
        "        top = nearby.sort_values(\"score\", ascending=False).head(top_n)\n",
        "        top[\"input_lat\"] = lat\n",
        "        top[\"input_lon\"] = lon\n",
        "        top[\"rank\"] = np.arange(1, len(top) + 1)\n",
        "\n",
        "        results.append(top[[\n",
        "            \"input_lat\", \"input_lon\", \"rank\", \"venueId\", \"venueCategory\", \"distance_m\", \"score\"\n",
        "        ]])\n",
        "\n",
        "    return pd.concat(results, ignore_index=True) if results else pd.DataFrame()\n",
        "\n",
        "test_user = df[\"userId\"].iloc[0]\n",
        "test_coords = [\n",
        "    (40.7580, -73.9855),  # Times Square\n",
        "    (40.7306, -73.9866),  # Greenwich Village\n",
        "    (40.7060, -74.0086)   # Wall Street\n",
        "]\n",
        "\n",
        "recommendations_df = recommend_for_coordinates(test_user, test_coords, radius_m=800, top_n=5)\n",
        "\n",
        "print(\"Top Recommended Points of Interest per Coordinate:\")\n",
        "print(recommendations_df)\n"
      ],
      "metadata": {
        "colab": {
          "base_uri": "https://localhost:8080/"
        },
        "id": "QOpsxr79dYg3",
        "outputId": "327ec9bd-a4d3-4262-cdbb-83717ce63eee"
      },
      "execution_count": 4,
      "outputs": [
        {
          "output_type": "stream",
          "name": "stderr",
          "text": [
            "/tmp/ipython-input-181522778.py:4: UserWarning: Could not infer format, so each element will be parsed individually, falling back to `dateutil`. To ensure parsing is consistent and as-expected, please specify a format.\n",
            "  df[\"utcTimestamp\"] = pd.to_datetime(df[\"utcTimestamp\"], errors=\"coerce\")\n"
          ]
        },
        {
          "output_type": "stream",
          "name": "stdout",
          "text": [
            "✅ Model training complete using NMF!\n",
            "Top Recommended Points of Interest per Coordinate:\n",
            "    input_lat  input_lon  rank                   venueId  \\\n",
            "0     40.7580   -73.9855     1  49b7ed6df964a52030531fe3   \n",
            "1     40.7580   -73.9855     2  4f93f1c8e5e828f50a2b81d1   \n",
            "2     40.7580   -73.9855     3  439c437bf964a520f02b1fe3   \n",
            "3     40.7580   -73.9855     4  439c437bf964a520f02b1fe3   \n",
            "4     40.7580   -73.9855     5  4840fe6bf964a52030501fe3   \n",
            "5     40.7306   -73.9866     1  3fd66200f964a520def11ee3   \n",
            "6     40.7306   -73.9866     2  4ad8add6f964a520a61321e3   \n",
            "7     40.7306   -73.9866     3  4ad8add6f964a520a61321e3   \n",
            "8     40.7306   -73.9866     4  4a8cc1d4f964a520130f20e3   \n",
            "9     40.7306   -73.9866     5  4a8cc1d4f964a520130f20e3   \n",
            "10    40.7060   -74.0086     1  3fd66200f964a520daf11ee3   \n",
            "11    40.7060   -74.0086     2  4ad78220f964a520960b21e3   \n",
            "12    40.7060   -74.0086     3  4c9f62d503133704f79471d5   \n",
            "13    40.7060   -74.0086     4  4ddc09e71838306b81fd524f   \n",
            "14    40.7060   -74.0086     5  4c337ca066e40f47c016c88b   \n",
            "\n",
            "                               venueCategory  distance_m     score  \n",
            "0                                      Plaza  179.803041  0.036382  \n",
            "1   Residential Building (Apartment / Condo)  570.387313  0.034569  \n",
            "2                                      Hotel   36.604684  0.028597  \n",
            "3                                      Hotel   60.354971  0.028597  \n",
            "4                                Bus Station  517.864322  0.012132  \n",
            "5                                       Park  611.226253  0.002596  \n",
            "6                                     Subway  720.556128  0.002149  \n",
            "7                                     Subway  661.375554  0.002149  \n",
            "8                                  Bookstore  470.828156  0.002103  \n",
            "9                                  Bookstore  473.218638  0.002103  \n",
            "10                           Harbor / Marina  485.168208  0.000920  \n",
            "11                                    Subway  494.090662  0.000786  \n",
            "12                      Drugstore / Pharmacy  383.571175  0.000735  \n",
            "13                                    Office  511.234246  0.000577  \n",
            "14                                    Office  280.724480  0.000470  \n"
          ]
        }
      ]
    },
    {
      "cell_type": "code",
      "source": [
        "df = pd.read_csv(\"dataset_TSMC2014_NYC.csv\")\n",
        "\n",
        "df = df.dropna(subset=[\"userId\", \"venueId\", \"latitude\", \"longitude\"])\n",
        "df[\"utcTimestamp\"] = pd.to_datetime(df[\"utcTimestamp\"], errors = \"coerce\")\n",
        "df = df.sort_values([\"userId\", \"utcTimestamp\"])\n",
        "\n",
        "user_encode = LabelEncoder()\n",
        "venue_encode= LabelEncoder()\n",
        "\n",
        "df[\"userId_enc\"] = user_encode.fit_transform(df[\"userId\"])\n",
        "df[\"venueId_enc\"] = venue_encode.fit_transform(df[\"venueId\"])\n",
        "\n",
        "user_sequences = df.groupby(\"userId_enc\")[\"venueId_enc\"].apply(list)\n",
        ""
      ],
      "metadata": {
        "id": "U7uu4CkQS0XR",
        "colab": {
          "base_uri": "https://localhost:8080/"
        },
        "outputId": "99743bb2-8fe3-4415-f0f3-76bdb6e3cb21"
      },
      "execution_count": 5,
      "outputs": [
        {
          "output_type": "stream",
          "name": "stderr",
          "text": [
            "/tmp/ipython-input-3568376546.py:4: UserWarning: Could not infer format, so each element will be parsed individually, falling back to `dateutil`. To ensure parsing is consistent and as-expected, please specify a format.\n",
            "  df[\"utcTimestamp\"] = pd.to_datetime(df[\"utcTimestamp\"], errors = \"coerce\")\n"
          ]
        }
      ]
    },
    {
      "cell_type": "code",
      "source": [
        "X = []\n",
        "y = []\n",
        "\n",
        "for sequence in user_sequences:\n",
        "  for i in range(1, len(sequence)):\n",
        "    X.append(sequence[:i])\n",
        "    y.append(sequence[i])\n"
      ],
      "metadata": {
        "id": "9DW5Dwg2cKn4"
      },
      "execution_count": 6,
      "outputs": []
    },
    {
      "cell_type": "code",
      "source": [
        "from tensorflow.keras.preprocessing.sequence import pad_sequences\n",
        "from tensorflow.keras.utils import to_categorical\n"
      ],
      "metadata": {
        "id": "XPxbKlDacZ1s"
      },
      "execution_count": 7,
      "outputs": []
    },
    {
      "cell_type": "code",
      "source": [
        "max_len = max(len(s) for s in X)\n",
        "X_pad = pad_sequences(X, maxlen=max_len, padding=\"pre\")\n",
        "y_cat = to_categorical(y, num_classes=len(venue_encode.classes_))"
      ],
      "metadata": {
        "id": "DfQhBG11caZB"
      },
      "execution_count": 8,
      "outputs": []
    },
    {
      "cell_type": "code",
      "source": [
        "from tensorflow.keras.models import Sequential\n",
        "from tensorflow.keras.layers import Embedding, LSTM, Dense\n",
        "\n",
        "num_values = len(venue_encode.classes_)\n",
        "embeddings = 64\n",
        "\n",
        "model = Sequential([\n",
        "    Embedding(input_dim=num_values, output_dim=embeddings, input_length=max_len),\n",
        "    LSTM(128, return_sequences=False),\n",
        "    Dense(num_values, activation=\"softmax\")\n",
        "])\n",
        "\n",
        "model.compile(loss=\"categorical_crossentropy\", optimizer=\"adam\", metrics=[\"accuracy\"])\n",
        "model.summary()\n",
        "\n",
        "model.fit(X_pad, y_cat, batch_size=64, epochs=10, validation_split=0.1)\n"
      ],
      "metadata": {
        "colab": {
          "base_uri": "https://localhost:8080/",
          "height": 258
        },
        "id": "QgyLjdpFcqu4",
        "outputId": "5413e0b0-dc5c-4855-dd7f-e69962cc86ce"
      },
      "execution_count": null,
      "outputs": [
        {
          "output_type": "stream",
          "name": "stderr",
          "text": [
            "/usr/local/lib/python3.12/dist-packages/keras/src/layers/core/embedding.py:97: UserWarning: Argument `input_length` is deprecated. Just remove it.\n",
            "  warnings.warn(\n"
          ]
        },
        {
          "output_type": "display_data",
          "data": {
            "text/plain": [
              "\u001b[1mModel: \"sequential\"\u001b[0m\n"
            ],
            "text/html": [
              "<pre style=\"white-space:pre;overflow-x:auto;line-height:normal;font-family:Menlo,'DejaVu Sans Mono',consolas,'Courier New',monospace\"><span style=\"font-weight: bold\">Model: \"sequential\"</span>\n",
              "</pre>\n"
            ]
          },
          "metadata": {}
        },
        {
          "output_type": "display_data",
          "data": {
            "text/plain": [
              "┏━━━━━━━━━━━━━━━━━━━━━━━━━━━━━━━━━┳━━━━━━━━━━━━━━━━━━━━━━━━┳━━━━━━━━━━━━━━━┓\n",
              "┃\u001b[1m \u001b[0m\u001b[1mLayer (type)                   \u001b[0m\u001b[1m \u001b[0m┃\u001b[1m \u001b[0m\u001b[1mOutput Shape          \u001b[0m\u001b[1m \u001b[0m┃\u001b[1m \u001b[0m\u001b[1m      Param #\u001b[0m\u001b[1m \u001b[0m┃\n",
              "┡━━━━━━━━━━━━━━━━━━━━━━━━━━━━━━━━━╇━━━━━━━━━━━━━━━━━━━━━━━━╇━━━━━━━━━━━━━━━┩\n",
              "│ embedding (\u001b[38;5;33mEmbedding\u001b[0m)           │ ?                      │   \u001b[38;5;34m0\u001b[0m (unbuilt) │\n",
              "├─────────────────────────────────┼────────────────────────┼───────────────┤\n",
              "│ lstm (\u001b[38;5;33mLSTM\u001b[0m)                     │ ?                      │   \u001b[38;5;34m0\u001b[0m (unbuilt) │\n",
              "├─────────────────────────────────┼────────────────────────┼───────────────┤\n",
              "│ dense (\u001b[38;5;33mDense\u001b[0m)                   │ ?                      │   \u001b[38;5;34m0\u001b[0m (unbuilt) │\n",
              "└─────────────────────────────────┴────────────────────────┴───────────────┘\n"
            ],
            "text/html": [
              "<pre style=\"white-space:pre;overflow-x:auto;line-height:normal;font-family:Menlo,'DejaVu Sans Mono',consolas,'Courier New',monospace\">┏━━━━━━━━━━━━━━━━━━━━━━━━━━━━━━━━━┳━━━━━━━━━━━━━━━━━━━━━━━━┳━━━━━━━━━━━━━━━┓\n",
              "┃<span style=\"font-weight: bold\"> Layer (type)                    </span>┃<span style=\"font-weight: bold\"> Output Shape           </span>┃<span style=\"font-weight: bold\">       Param # </span>┃\n",
              "┡━━━━━━━━━━━━━━━━━━━━━━━━━━━━━━━━━╇━━━━━━━━━━━━━━━━━━━━━━━━╇━━━━━━━━━━━━━━━┩\n",
              "│ embedding (<span style=\"color: #0087ff; text-decoration-color: #0087ff\">Embedding</span>)           │ ?                      │   <span style=\"color: #00af00; text-decoration-color: #00af00\">0</span> (unbuilt) │\n",
              "├─────────────────────────────────┼────────────────────────┼───────────────┤\n",
              "│ lstm (<span style=\"color: #0087ff; text-decoration-color: #0087ff\">LSTM</span>)                     │ ?                      │   <span style=\"color: #00af00; text-decoration-color: #00af00\">0</span> (unbuilt) │\n",
              "├─────────────────────────────────┼────────────────────────┼───────────────┤\n",
              "│ dense (<span style=\"color: #0087ff; text-decoration-color: #0087ff\">Dense</span>)                   │ ?                      │   <span style=\"color: #00af00; text-decoration-color: #00af00\">0</span> (unbuilt) │\n",
              "└─────────────────────────────────┴────────────────────────┴───────────────┘\n",
              "</pre>\n"
            ]
          },
          "metadata": {}
        },
        {
          "output_type": "display_data",
          "data": {
            "text/plain": [
              "\u001b[1m Total params: \u001b[0m\u001b[38;5;34m0\u001b[0m (0.00 B)\n"
            ],
            "text/html": [
              "<pre style=\"white-space:pre;overflow-x:auto;line-height:normal;font-family:Menlo,'DejaVu Sans Mono',consolas,'Courier New',monospace\"><span style=\"font-weight: bold\"> Total params: </span><span style=\"color: #00af00; text-decoration-color: #00af00\">0</span> (0.00 B)\n",
              "</pre>\n"
            ]
          },
          "metadata": {}
        },
        {
          "output_type": "display_data",
          "data": {
            "text/plain": [
              "\u001b[1m Trainable params: \u001b[0m\u001b[38;5;34m0\u001b[0m (0.00 B)\n"
            ],
            "text/html": [
              "<pre style=\"white-space:pre;overflow-x:auto;line-height:normal;font-family:Menlo,'DejaVu Sans Mono',consolas,'Courier New',monospace\"><span style=\"font-weight: bold\"> Trainable params: </span><span style=\"color: #00af00; text-decoration-color: #00af00\">0</span> (0.00 B)\n",
              "</pre>\n"
            ]
          },
          "metadata": {}
        },
        {
          "output_type": "display_data",
          "data": {
            "text/plain": [
              "\u001b[1m Non-trainable params: \u001b[0m\u001b[38;5;34m0\u001b[0m (0.00 B)\n"
            ],
            "text/html": [
              "<pre style=\"white-space:pre;overflow-x:auto;line-height:normal;font-family:Menlo,'DejaVu Sans Mono',consolas,'Courier New',monospace\"><span style=\"font-weight: bold\"> Non-trainable params: </span><span style=\"color: #00af00; text-decoration-color: #00af00\">0</span> (0.00 B)\n",
              "</pre>\n"
            ]
          },
          "metadata": {}
        }
      ]
    }
  ]
}